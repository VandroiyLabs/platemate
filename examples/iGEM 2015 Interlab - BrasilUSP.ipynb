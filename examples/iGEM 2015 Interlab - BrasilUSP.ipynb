{
 "cells": [
  {
   "cell_type": "markdown",
   "metadata": {},
   "source": [
    "# Interlab from iGEM 2015\n"
   ]
  },
  {
   "cell_type": "code",
   "execution_count": 347,
   "metadata": {
    "collapsed": false
   },
   "outputs": [],
   "source": [
    "%matplotlib inline\n",
    "import pylab as pl\n",
    "from math import sqrt\n",
    "import sys\n",
    "\n",
    "# importing platemate\n",
    "sys.path.insert(0, '../src')\n",
    "import platemate"
   ]
  },
  {
   "cell_type": "markdown",
   "metadata": {},
   "source": [
    "You first need to map each column in your plate to a colony or a control."
   ]
  },
  {
   "cell_type": "code",
   "execution_count": 348,
   "metadata": {
    "collapsed": false
   },
   "outputs": [],
   "source": [
    "ColumnNames = {\n",
    "    'C' : \"Dev1\",\n",
    "    'D' : \"Dev2\",\n",
    "    'E' : \"Dev3\"\n",
    "    }\n",
    "\n",
    "controlNames = {\n",
    "    'A' : \"LB\",\n",
    "    'B' : \"LB+Cam\",\n",
    "    'F' : \"+control\",\n",
    "    'G' : \"-control1\",\n",
    "    'H' : \"-control2\"\n",
    "    }"
   ]
  },
  {
   "cell_type": "markdown",
   "metadata": {},
   "source": [
    "Then we create an object PlateMate"
   ]
  },
  {
   "cell_type": "code",
   "execution_count": 349,
   "metadata": {
    "collapsed": false
   },
   "outputs": [],
   "source": [
    "reload(platemate)\n",
    "pm = platemate.PlateMate( colonyNames = ColumnNames, controlNames = controlNames )"
   ]
  },
  {
   "cell_type": "markdown",
   "metadata": {},
   "source": [
    "aaa"
   ]
  },
  {
   "cell_type": "code",
   "execution_count": 350,
   "metadata": {
    "collapsed": false
   },
   "outputs": [
    {
     "name": "stdout",
     "output_type": "stream",
     "text": [
      "['Dev1', 'Dev3', 'Dev2']\n",
      "['LB', '-control2', 'LB+Cam', '-control1', '+control']\n"
     ]
    }
   ],
   "source": [
    "print pm.getColonyNames()\n",
    "print pm.getControlNames()"
   ]
  },
  {
   "cell_type": "markdown",
   "metadata": {},
   "source": [
    "Indexing and reading all files from the spectrometer."
   ]
  },
  {
   "cell_type": "code",
   "execution_count": 351,
   "metadata": {
    "collapsed": false
   },
   "outputs": [
    {
     "name": "stdout",
     "output_type": "stream",
     "text": [
      "reading fluorescence...\n",
      "reading optical density...\n"
     ]
    }
   ],
   "source": [
    "pm.findFiles(\"medida\")\n",
    "\n",
    "print 'reading fluorescence...'\n",
    "pm.readFluorescence()\n",
    "print 'reading optical density...'\n",
    "pm.readOpticalDensity()"
   ]
  },
  {
   "cell_type": "markdown",
   "metadata": {},
   "source": [
    "Now the object pm has all information about plate readings. For instance, we can get a summary from one of the well sets defined before. As an example, let's try \"LB\"."
   ]
  },
  {
   "cell_type": "code",
   "execution_count": 352,
   "metadata": {
    "collapsed": false
   },
   "outputs": [
    {
     "data": {
      "text/html": [
       "<div style=\"max-height:1000px;max-width:1500px;overflow:auto;\">\n",
       "<table border=\"1\" class=\"dataframe\">\n",
       "  <thead>\n",
       "    <tr style=\"text-align: right;\">\n",
       "      <th></th>\n",
       "      <th>A01</th>\n",
       "      <th>A02</th>\n",
       "      <th>A03</th>\n",
       "      <th>A04</th>\n",
       "      <th>A05</th>\n",
       "      <th>A06</th>\n",
       "      <th>A07</th>\n",
       "      <th>A08</th>\n",
       "      <th>A09</th>\n",
       "    </tr>\n",
       "  </thead>\n",
       "  <tbody>\n",
       "    <tr>\n",
       "      <th>0</th>\n",
       "      <td> 896.879</td>\n",
       "      <td> 924.144</td>\n",
       "      <td> 899.629</td>\n",
       "      <td> 796.180</td>\n",
       "      <td> 936.492</td>\n",
       "      <td> 826.367</td>\n",
       "      <td> 759.291</td>\n",
       "      <td> 792.928</td>\n",
       "      <td> 946.623</td>\n",
       "    </tr>\n",
       "    <tr>\n",
       "      <th>1</th>\n",
       "      <td> 946.583</td>\n",
       "      <td> 938.596</td>\n",
       "      <td> 928.959</td>\n",
       "      <td> 790.242</td>\n",
       "      <td> 946.989</td>\n",
       "      <td> 838.949</td>\n",
       "      <td> 777.353</td>\n",
       "      <td> 790.383</td>\n",
       "      <td> 963.707</td>\n",
       "    </tr>\n",
       "    <tr>\n",
       "      <th>2</th>\n",
       "      <td> 694.778</td>\n",
       "      <td> 774.716</td>\n",
       "      <td> 718.264</td>\n",
       "      <td> 533.280</td>\n",
       "      <td> 735.652</td>\n",
       "      <td> 606.997</td>\n",
       "      <td> 629.488</td>\n",
       "      <td> 703.695</td>\n",
       "      <td> 852.307</td>\n",
       "    </tr>\n",
       "  </tbody>\n",
       "</table>\n",
       "</div>"
      ],
      "text/plain": [
       "       A01      A02      A03      A04      A05      A06      A07      A08  \\\n",
       "0  896.879  924.144  899.629  796.180  936.492  826.367  759.291  792.928   \n",
       "1  946.583  938.596  928.959  790.242  946.989  838.949  777.353  790.383   \n",
       "2  694.778  774.716  718.264  533.280  735.652  606.997  629.488  703.695   \n",
       "\n",
       "       A09  \n",
       "0  946.623  \n",
       "1  963.707  \n",
       "2  852.307  "
      ]
     },
     "execution_count": 352,
     "metadata": {},
     "output_type": "execute_result"
    }
   ],
   "source": [
    "pm.summary(\"LB\")"
   ]
  },
  {
   "cell_type": "markdown",
   "metadata": {},
   "source": [
    "If you want to see the whole dataset associated with that well set, use getFluorescence."
   ]
  },
  {
   "cell_type": "code",
   "execution_count": 353,
   "metadata": {
    "collapsed": false
   },
   "outputs": [
    {
     "data": {
      "text/html": [
       "<div style=\"max-height:1000px;max-width:1500px;overflow:auto;\">\n",
       "<table border=\"1\" class=\"dataframe\">\n",
       "  <thead>\n",
       "    <tr style=\"text-align: right;\">\n",
       "      <th></th>\n",
       "      <th>A01</th>\n",
       "      <th>A02</th>\n",
       "      <th>A03</th>\n",
       "      <th>A04</th>\n",
       "      <th>A05</th>\n",
       "      <th>A06</th>\n",
       "      <th>A07</th>\n",
       "      <th>A08</th>\n",
       "      <th>A09</th>\n",
       "    </tr>\n",
       "  </thead>\n",
       "  <tbody>\n",
       "    <tr>\n",
       "      <th>0</th>\n",
       "      <td> 896.879</td>\n",
       "      <td> 924.144</td>\n",
       "      <td> 899.629</td>\n",
       "      <td> 796.180</td>\n",
       "      <td> 936.492</td>\n",
       "      <td> 826.367</td>\n",
       "      <td> 759.291</td>\n",
       "      <td> 792.928</td>\n",
       "      <td>  946.623</td>\n",
       "    </tr>\n",
       "    <tr>\n",
       "      <th>1</th>\n",
       "      <td> 946.583</td>\n",
       "      <td> 938.596</td>\n",
       "      <td> 928.959</td>\n",
       "      <td> 790.242</td>\n",
       "      <td> 946.989</td>\n",
       "      <td> 838.949</td>\n",
       "      <td> 777.353</td>\n",
       "      <td> 790.383</td>\n",
       "      <td>  963.707</td>\n",
       "    </tr>\n",
       "    <tr>\n",
       "      <th>2</th>\n",
       "      <td> 694.778</td>\n",
       "      <td> 774.716</td>\n",
       "      <td> 718.264</td>\n",
       "      <td> 533.280</td>\n",
       "      <td> 735.652</td>\n",
       "      <td> 606.997</td>\n",
       "      <td> 629.488</td>\n",
       "      <td> 703.695</td>\n",
       "      <td>  852.307</td>\n",
       "    </tr>\n",
       "    <tr>\n",
       "      <th>3</th>\n",
       "      <td> 737.650</td>\n",
       "      <td> 821.107</td>\n",
       "      <td> 748.746</td>\n",
       "      <td> 606.770</td>\n",
       "      <td> 802.477</td>\n",
       "      <td> 799.081</td>\n",
       "      <td> 726.210</td>\n",
       "      <td> 740.538</td>\n",
       "      <td>  888.691</td>\n",
       "    </tr>\n",
       "    <tr>\n",
       "      <th>4</th>\n",
       "      <td> 743.555</td>\n",
       "      <td> 825.443</td>\n",
       "      <td> 746.563</td>\n",
       "      <td> 639.481</td>\n",
       "      <td> 820.822</td>\n",
       "      <td> 844.555</td>\n",
       "      <td> 816.009</td>\n",
       "      <td> 911.706</td>\n",
       "      <td>  952.603</td>\n",
       "    </tr>\n",
       "    <tr>\n",
       "      <th>5</th>\n",
       "      <td> 799.255</td>\n",
       "      <td> 882.934</td>\n",
       "      <td> 779.688</td>\n",
       "      <td> 688.916</td>\n",
       "      <td> 839.220</td>\n",
       "      <td> 888.245</td>\n",
       "      <td> 860.381</td>\n",
       "      <td> 905.064</td>\n",
       "      <td> 1024.023</td>\n",
       "    </tr>\n",
       "    <tr>\n",
       "      <th>6</th>\n",
       "      <td> 782.279</td>\n",
       "      <td> 809.345</td>\n",
       "      <td> 773.809</td>\n",
       "      <td> 742.165</td>\n",
       "      <td> 820.198</td>\n",
       "      <td> 836.612</td>\n",
       "      <td> 880.490</td>\n",
       "      <td> 901.366</td>\n",
       "      <td> 1014.964</td>\n",
       "    </tr>\n",
       "    <tr>\n",
       "      <th>7</th>\n",
       "      <td> 776.692</td>\n",
       "      <td> 817.415</td>\n",
       "      <td> 761.893</td>\n",
       "      <td> 736.503</td>\n",
       "      <td> 852.735</td>\n",
       "      <td> 841.259</td>\n",
       "      <td> 858.177</td>\n",
       "      <td> 837.875</td>\n",
       "      <td> 1007.036</td>\n",
       "    </tr>\n",
       "    <tr>\n",
       "      <th>8</th>\n",
       "      <td> 776.348</td>\n",
       "      <td> 877.195</td>\n",
       "      <td> 747.081</td>\n",
       "      <td> 723.228</td>\n",
       "      <td> 825.820</td>\n",
       "      <td> 858.616</td>\n",
       "      <td> 866.621</td>\n",
       "      <td> 996.143</td>\n",
       "      <td>  998.920</td>\n",
       "    </tr>\n",
       "  </tbody>\n",
       "</table>\n",
       "</div>"
      ],
      "text/plain": [
       "       A01      A02      A03      A04      A05      A06      A07      A08  \\\n",
       "0  896.879  924.144  899.629  796.180  936.492  826.367  759.291  792.928   \n",
       "1  946.583  938.596  928.959  790.242  946.989  838.949  777.353  790.383   \n",
       "2  694.778  774.716  718.264  533.280  735.652  606.997  629.488  703.695   \n",
       "3  737.650  821.107  748.746  606.770  802.477  799.081  726.210  740.538   \n",
       "4  743.555  825.443  746.563  639.481  820.822  844.555  816.009  911.706   \n",
       "5  799.255  882.934  779.688  688.916  839.220  888.245  860.381  905.064   \n",
       "6  782.279  809.345  773.809  742.165  820.198  836.612  880.490  901.366   \n",
       "7  776.692  817.415  761.893  736.503  852.735  841.259  858.177  837.875   \n",
       "8  776.348  877.195  747.081  723.228  825.820  858.616  866.621  996.143   \n",
       "\n",
       "        A09  \n",
       "0   946.623  \n",
       "1   963.707  \n",
       "2   852.307  \n",
       "3   888.691  \n",
       "4   952.603  \n",
       "5  1024.023  \n",
       "6  1014.964  \n",
       "7  1007.036  \n",
       "8   998.920  "
      ]
     },
     "execution_count": 353,
     "metadata": {},
     "output_type": "execute_result"
    }
   ],
   "source": [
    "pm.getFluorescence(\"LB\")"
   ]
  },
  {
   "cell_type": "markdown",
   "metadata": {},
   "source": [
    "Similarly, you can check the optical density associated with that particular well."
   ]
  },
  {
   "cell_type": "code",
   "execution_count": 354,
   "metadata": {
    "collapsed": false
   },
   "outputs": [
    {
     "data": {
      "text/html": [
       "<div style=\"max-height:1000px;max-width:1500px;overflow:auto;\">\n",
       "<table border=\"1\" class=\"dataframe\">\n",
       "  <thead>\n",
       "    <tr style=\"text-align: right;\">\n",
       "      <th></th>\n",
       "      <th>A01</th>\n",
       "      <th>A02</th>\n",
       "      <th>A03</th>\n",
       "      <th>A04</th>\n",
       "      <th>A05</th>\n",
       "      <th>A06</th>\n",
       "      <th>A07</th>\n",
       "      <th>A08</th>\n",
       "      <th>A09</th>\n",
       "    </tr>\n",
       "  </thead>\n",
       "  <tbody>\n",
       "    <tr>\n",
       "      <th>0</th>\n",
       "      <td> 0.2661</td>\n",
       "      <td> 0.3356</td>\n",
       "      <td> 0.2544</td>\n",
       "      <td> 0.3294</td>\n",
       "      <td> 0.2807</td>\n",
       "      <td> 0.2994</td>\n",
       "      <td> 0.2424</td>\n",
       "      <td> 0.2641</td>\n",
       "      <td> 0.1133</td>\n",
       "    </tr>\n",
       "    <tr>\n",
       "      <th>1</th>\n",
       "      <td> 0.2820</td>\n",
       "      <td> 0.3573</td>\n",
       "      <td> 0.2772</td>\n",
       "      <td> 0.3622</td>\n",
       "      <td> 0.3081</td>\n",
       "      <td> 0.3329</td>\n",
       "      <td> 0.2674</td>\n",
       "      <td> 0.2913</td>\n",
       "      <td> 0.1247</td>\n",
       "    </tr>\n",
       "    <tr>\n",
       "      <th>2</th>\n",
       "      <td> 0.2820</td>\n",
       "      <td> 0.3573</td>\n",
       "      <td> 0.2772</td>\n",
       "      <td> 0.3622</td>\n",
       "      <td> 0.3081</td>\n",
       "      <td> 0.3329</td>\n",
       "      <td> 0.2674</td>\n",
       "      <td> 0.2913</td>\n",
       "      <td> 0.1247</td>\n",
       "    </tr>\n",
       "    <tr>\n",
       "      <th>3</th>\n",
       "      <td> 0.3322</td>\n",
       "      <td> 0.4105</td>\n",
       "      <td> 0.3580</td>\n",
       "      <td> 0.4219</td>\n",
       "      <td> 0.3976</td>\n",
       "      <td> 0.4179</td>\n",
       "      <td> 0.3950</td>\n",
       "      <td> 0.3974</td>\n",
       "      <td> 0.1805</td>\n",
       "    </tr>\n",
       "    <tr>\n",
       "      <th>4</th>\n",
       "      <td> 0.3322</td>\n",
       "      <td> 0.4105</td>\n",
       "      <td> 0.3580</td>\n",
       "      <td> 0.4219</td>\n",
       "      <td> 0.3976</td>\n",
       "      <td> 0.4179</td>\n",
       "      <td> 0.3950</td>\n",
       "      <td> 0.3974</td>\n",
       "      <td> 0.1805</td>\n",
       "    </tr>\n",
       "    <tr>\n",
       "      <th>5</th>\n",
       "      <td> 0.3385</td>\n",
       "      <td> 0.4095</td>\n",
       "      <td> 0.3596</td>\n",
       "      <td> 0.4139</td>\n",
       "      <td> 0.3971</td>\n",
       "      <td> 0.4018</td>\n",
       "      <td> 0.3905</td>\n",
       "      <td> 0.3776</td>\n",
       "      <td> 0.1888</td>\n",
       "    </tr>\n",
       "    <tr>\n",
       "      <th>6</th>\n",
       "      <td> 0.3464</td>\n",
       "      <td> 0.4157</td>\n",
       "      <td> 0.3699</td>\n",
       "      <td> 0.4169</td>\n",
       "      <td> 0.4054</td>\n",
       "      <td> 0.3965</td>\n",
       "      <td> 0.3873</td>\n",
       "      <td> 0.3789</td>\n",
       "      <td> 0.2007</td>\n",
       "    </tr>\n",
       "    <tr>\n",
       "      <th>7</th>\n",
       "      <td> 0.3446</td>\n",
       "      <td> 0.4203</td>\n",
       "      <td> 0.3776</td>\n",
       "      <td> 0.4336</td>\n",
       "      <td> 0.4183</td>\n",
       "      <td> 0.4082</td>\n",
       "      <td> 0.4004</td>\n",
       "      <td> 0.3973</td>\n",
       "      <td> 0.2113</td>\n",
       "    </tr>\n",
       "    <tr>\n",
       "      <th>8</th>\n",
       "      <td> 0.3545</td>\n",
       "      <td> 0.4325</td>\n",
       "      <td> 0.4016</td>\n",
       "      <td> 0.4187</td>\n",
       "      <td> 0.4292</td>\n",
       "      <td> 0.4035</td>\n",
       "      <td> 0.4060</td>\n",
       "      <td> 0.4149</td>\n",
       "      <td> 0.2361</td>\n",
       "    </tr>\n",
       "  </tbody>\n",
       "</table>\n",
       "</div>"
      ],
      "text/plain": [
       "      A01     A02     A03     A04     A05     A06     A07     A08     A09\n",
       "0  0.2661  0.3356  0.2544  0.3294  0.2807  0.2994  0.2424  0.2641  0.1133\n",
       "1  0.2820  0.3573  0.2772  0.3622  0.3081  0.3329  0.2674  0.2913  0.1247\n",
       "2  0.2820  0.3573  0.2772  0.3622  0.3081  0.3329  0.2674  0.2913  0.1247\n",
       "3  0.3322  0.4105  0.3580  0.4219  0.3976  0.4179  0.3950  0.3974  0.1805\n",
       "4  0.3322  0.4105  0.3580  0.4219  0.3976  0.4179  0.3950  0.3974  0.1805\n",
       "5  0.3385  0.4095  0.3596  0.4139  0.3971  0.4018  0.3905  0.3776  0.1888\n",
       "6  0.3464  0.4157  0.3699  0.4169  0.4054  0.3965  0.3873  0.3789  0.2007\n",
       "7  0.3446  0.4203  0.3776  0.4336  0.4183  0.4082  0.4004  0.3973  0.2113\n",
       "8  0.3545  0.4325  0.4016  0.4187  0.4292  0.4035  0.4060  0.4149  0.2361"
      ]
     },
     "execution_count": 354,
     "metadata": {},
     "output_type": "execute_result"
    }
   ],
   "source": [
    "pm.getOpticalDensity(\"LB\")"
   ]
  },
  {
   "cell_type": "markdown",
   "metadata": {},
   "source": [
    "Because the file also contained information about the temperature at the time of the reading, platemate will also sotre it for any possible analysis."
   ]
  },
  {
   "cell_type": "code",
   "execution_count": 355,
   "metadata": {
    "collapsed": false
   },
   "outputs": [
    {
     "name": "stdout",
     "output_type": "stream",
     "text": [
      "Plotting all wells for each population\n"
     ]
    },
    {
     "data": {
      "image/png": "[encoded data removed]",
      "text/plain": [
       "<matplotlib.figure.Figure at 0x7f9a07e609d0>"
      ]
     },
     "metadata": {},
     "output_type": "display_data"
    },
    {
     "name": "stdout",
     "output_type": "stream",
     "text": [
      "Plotting averages for each population\n"
     ]
    },
    {
     "data": {
      "image/png": "[encoded data removed]",
      "text/plain": [
       "<matplotlib.figure.Figure at 0x7f9a07d54e90>"
      ]
     },
     "metadata": {},
     "output_type": "display_data"
    },
    {
     "name": "stdout",
     "output_type": "stream",
     "text": [
      "Plotting averages and 1-std intervals for each population\n"
     ]
    },
    {
     "data": {
      "image/png": "[encoded data removed]",
      "text/plain": [
       "<matplotlib.figure.Figure at 0x7f9a07e08750>"
      ]
     },
     "metadata": {},
     "output_type": "display_data"
    }
   ],
   "source": [
    "print \"Plotting all wells for each population\"\n",
    "pl.figure(figsize=(6,4.5))\n",
    "pm.plotIt([\"Dev1\",\"Dev2\",\"Dev3\"])\n",
    "pl.show()\n",
    "\n",
    "print \"Plotting averages for each population\"\n",
    "pl.figure(figsize=(6,4.5))\n",
    "pm.plotMean([\"Dev1\",\"Dev2\",\"Dev3\"])\n",
    "pl.show()\n",
    "\n",
    "print \"Plotting averages and 1-std intervals for each population\"\n",
    "pl.figure(figsize=(6,4.5))\n",
    "pm.plotFuzzyMean([\"Dev1\",\"Dev2\",\"Dev3\"])\n",
    "pl.show()"
   ]
  },
  {
   "cell_type": "code",
   "execution_count": 356,
   "metadata": {
    "collapsed": false
   },
   "outputs": [
    {
     "data": {
      "text/plain": [
       "(0.0, 4.4054724961400581e-28)"
      ]
     },
     "execution_count": 356,
     "metadata": {},
     "output_type": "execute_result"
    }
   ],
   "source": [
    "pm.compareFluorescence(\"LB\",\"Dev1\")"
   ]
  },
  {
   "cell_type": "code",
   "execution_count": 357,
   "metadata": {
    "collapsed": false
   },
   "outputs": [
    {
     "data": {
      "image/png": "[encoded data removed]",
      "text/plain": [
       "<matplotlib.figure.Figure at 0x7f9a07e60110>"
      ]
     },
     "metadata": {},
     "output_type": "display_data"
    }
   ],
   "source": [
    "pl.figure(figsize=(7,4))\n",
    "pm.plotBars([\"Dev1\",\"Dev2\",\"Dev3\",\"-control1\"], 5)\n",
    "pl.show()"
   ]
  },
  {
   "cell_type": "code",
   "execution_count": 358,
   "metadata": {
    "collapsed": false
   },
   "outputs": [
    {
     "name": "stdout",
     "output_type": "stream",
     "text": [
      "Device 1 vs -control1:\n",
      "(6561.0, 4.4054724961400581e-28)\n",
      "Device 2 vs -control1:\n",
      "(6532.0, 1.2860869327145435e-27)\n",
      "Device 3 vs -control1:\n",
      "(3366.0, 0.77585226092928528)\n"
     ]
    }
   ],
   "source": [
    "print \"Device 1 vs -control1:\"\n",
    "print pm.compareFluorescence(\"Dev1\",\"-control1\")\n",
    "print \"Device 2 vs -control1:\"\n",
    "print pm.compareFluorescence(\"Dev2\",\"-control1\")\n",
    "print \"Device 3 vs -control1:\"\n",
    "print pm.compareFluorescence(\"Dev3\",\"-control1\")"
   ]
  },
  {
   "cell_type": "markdown",
   "metadata": {
    "collapsed": true
   },
   "source": [
    "The result above shows that we cannot rule out the hypothesis that Dev3 is not significantly larger than the negative control. This completely agrees with the bar plots comparing all devices and the negative control. In other words, this basically shows that no significant expression was observed in our device 3.\n",
    "\n",
    "Is the expression of device 3 at least stronger than LB?"
   ]
  },
  {
   "cell_type": "code",
   "execution_count": 359,
   "metadata": {
    "collapsed": false
   },
   "outputs": [
    {
     "name": "stdout",
     "output_type": "stream",
     "text": [
      "Device 3 vs LB:\n",
      "(4800.0, 3.6135744993300728e-07)\n",
      "-control vs LB:\n",
      "(5225.0, 7.420359894394196e-11)\n"
     ]
    }
   ],
   "source": [
    "print \"Device 3 vs LB:\"\n",
    "print pm.compareFluorescence(\"Dev3\",\"LB\")\n",
    "print \"-control vs LB:\"\n",
    "print pm.compareFluorescence(\"-control1\",\"LB\")"
   ]
  },
  {
   "cell_type": "markdown",
   "metadata": {
    "collapsed": true
   },
   "source": [
    "This shows that it is, although the negative control also shows a response significantly larger than the LB medium."
   ]
  },
  {
   "cell_type": "code",
   "execution_count": 360,
   "metadata": {
    "collapsed": false
   },
   "outputs": [
    {
     "data": {
      "text/plain": [
       "(278.44071959391323, 7.5356734236160799e-89)"
      ]
     },
     "execution_count": 360,
     "metadata": {},
     "output_type": "execute_result"
    }
   ],
   "source": [
    "pm.ANOVA([\"Dev1\",\"Dev2\",\"Dev3\",\"-control1\"])"
   ]
  },
  {
   "cell_type": "code",
   "execution_count": 361,
   "metadata": {
    "collapsed": false
   },
   "outputs": [
    {
     "data": {
      "text/html": [
       "<div style=\"max-height:1000px;max-width:1500px;overflow:auto;\">\n",
       "<table border=\"1\" class=\"dataframe\">\n",
       "  <thead>\n",
       "    <tr style=\"text-align: right;\">\n",
       "      <th></th>\n",
       "      <th>Group 1</th>\n",
       "      <th>Group 2</th>\n",
       "      <th>Mean diff</th>\n",
       "      <th>Reject H0?</th>\n",
       "    </tr>\n",
       "  </thead>\n",
       "  <tbody>\n",
       "    <tr>\n",
       "      <th>0</th>\n",
       "      <td> Dev1</td>\n",
       "      <td>      Dev2</td>\n",
       "      <td>-1245.353679</td>\n",
       "      <td>  True</td>\n",
       "    </tr>\n",
       "    <tr>\n",
       "      <th>1</th>\n",
       "      <td> Dev1</td>\n",
       "      <td>      Dev3</td>\n",
       "      <td>-2184.682000</td>\n",
       "      <td>  True</td>\n",
       "    </tr>\n",
       "    <tr>\n",
       "      <th>2</th>\n",
       "      <td> Dev1</td>\n",
       "      <td> -control1</td>\n",
       "      <td>-2179.667951</td>\n",
       "      <td>  True</td>\n",
       "    </tr>\n",
       "    <tr>\n",
       "      <th>3</th>\n",
       "      <td> Dev2</td>\n",
       "      <td>      Dev3</td>\n",
       "      <td> -939.328321</td>\n",
       "      <td>  True</td>\n",
       "    </tr>\n",
       "    <tr>\n",
       "      <th>4</th>\n",
       "      <td> Dev2</td>\n",
       "      <td> -control1</td>\n",
       "      <td> -934.314272</td>\n",
       "      <td>  True</td>\n",
       "    </tr>\n",
       "    <tr>\n",
       "      <th>5</th>\n",
       "      <td> Dev3</td>\n",
       "      <td> -control1</td>\n",
       "      <td>    5.014049</td>\n",
       "      <td> False</td>\n",
       "    </tr>\n",
       "  </tbody>\n",
       "</table>\n",
       "</div>"
      ],
      "text/plain": [
       "  Group 1    Group 2    Mean diff Reject H0?\n",
       "0    Dev1       Dev2 -1245.353679       True\n",
       "1    Dev1       Dev3 -2184.682000       True\n",
       "2    Dev1  -control1 -2179.667951       True\n",
       "3    Dev2       Dev3  -939.328321       True\n",
       "4    Dev2  -control1  -934.314272       True\n",
       "5    Dev3  -control1     5.014049      False"
      ]
     },
     "execution_count": 361,
     "metadata": {},
     "output_type": "execute_result"
    }
   ],
   "source": [
    "pm.TukeyHSD([\"Dev1\",\"Dev2\",\"Dev3\",\"-control1\"])"
   ]
  },
  {
   "cell_type": "code",
   "execution_count": null,
   "metadata": {
    "collapsed": true
   },
   "outputs": [],
   "source": []
  },
  {
   "cell_type": "code",
   "execution_count": null,
   "metadata": {
    "collapsed": true
   },
   "outputs": [],
   "source": []
  },
  {
   "cell_type": "code",
   "execution_count": null,
   "metadata": {
    "collapsed": true
   },
   "outputs": [],
   "source": []
  },
  {
   "cell_type": "code",
   "execution_count": null,
   "metadata": {
    "collapsed": true
   },
   "outputs": [],
   "source": []
  },
  {
   "cell_type": "code",
   "execution_count": null,
   "metadata": {
    "collapsed": true
   },
   "outputs": [],
   "source": []
  }
 ],
 "metadata": {
  "kernelspec": {
   "display_name": "Python 2",
   "language": "python",
   "name": "python2"
  },
  "language_info": {
   "codemirror_mode": {
    "name": "ipython",
    "version": 2
   },
   "file_extension": ".py",
   "mimetype": "text/x-python",
   "name": "python",
   "nbconvert_exporter": "python",
   "pygments_lexer": "ipython2",
   "version": "2.7.8"
  }
 },
 "nbformat": 4,
 "nbformat_minor": 0
}
