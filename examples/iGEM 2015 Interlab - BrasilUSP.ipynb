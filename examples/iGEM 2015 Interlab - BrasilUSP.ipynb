{
 "cells": [
  {
   "cell_type": "markdown",
   "metadata": {},
   "source": [
    "# Interlab from iGEM 2015\n"
   ]
  },
  {
   "cell_type": "code",
   "execution_count": 46,
   "metadata": {
    "collapsed": false
   },
   "outputs": [],
   "source": [
    "%matplotlib inline\n",
    "import pylab as pl\n",
    "from math import sqrt\n",
    "import sys\n",
    "\n",
    "# importing platemate\n",
    "sys.path.insert(0, '../src')\n",
    "import platemate"
   ]
  },
  {
   "cell_type": "markdown",
   "metadata": {},
   "source": [
    "You first need to map each column in your plate to a colony or a control."
   ]
  },
  {
   "cell_type": "code",
   "execution_count": 81,
   "metadata": {
    "collapsed": false
   },
   "outputs": [],
   "source": [
    "ColumnNames = {\n",
    "    'C' : \"Dev1\",\n",
    "    'D' : \"Dev2\",\n",
    "    'E' : \"Dev3\"\n",
    "    }\n",
    "\n",
    "controlNames = {\n",
    "    'A' : \"LB\",\n",
    "    'B' : \"LB+Cam\",\n",
    "    'F' : \"+control\",\n",
    "    'G' : \"-control1\",\n",
    "    'H' : \"-control2\"\n",
    "    }"
   ]
  },
  {
   "cell_type": "markdown",
   "metadata": {},
   "source": [
    "Then we create an object PlateMate"
   ]
  },
  {
   "cell_type": "code",
   "execution_count": 118,
   "metadata": {
    "collapsed": false
   },
   "outputs": [],
   "source": [
    "reload(platemate)\n",
    "pm = platemate.PlateMate(colonyNames = ColumnNames, controlNames = controlNames)"
   ]
  },
  {
   "cell_type": "markdown",
   "metadata": {},
   "source": [
    "aaa"
   ]
  },
  {
   "cell_type": "code",
   "execution_count": 119,
   "metadata": {
    "collapsed": false
   },
   "outputs": [
    {
     "name": "stdout",
     "output_type": "stream",
     "text": [
      "['Dev1', 'Dev3', 'Dev2']\n",
      "['LB', '-control2', 'LB+Cam', '-control1', '+control']\n"
     ]
    }
   ],
   "source": [
    "print pm.getColonyNames()\n",
    "print pm.getControlNames()"
   ]
  },
  {
   "cell_type": "markdown",
   "metadata": {},
   "source": [
    "Indexing and reading all files from the spectrometer."
   ]
  },
  {
   "cell_type": "code",
   "execution_count": 120,
   "metadata": {
    "collapsed": false
   },
   "outputs": [
    {
     "name": "stdout",
     "output_type": "stream",
     "text": [
      "reading fluorescence...\n",
      "reading optical density...\n"
     ]
    }
   ],
   "source": [
    "pm.findFiles(\"medida\")\n",
    "\n",
    "print 'reading fluorescence...'\n",
    "pm.readFluorescence()\n",
    "print 'reading optical density...'\n",
    "pm.readOpticalDensity()"
   ]
  },
  {
   "cell_type": "markdown",
   "metadata": {},
   "source": [
    "Now the object pm has all information about plate readings. For instance, we can get a summary from one of the well sets defined before. As an example, let's try \"LB\"."
   ]
  },
  {
   "cell_type": "code",
   "execution_count": 121,
   "metadata": {
    "collapsed": false
   },
   "outputs": [
    {
     "data": {
      "text/html": [
       "<div style=\"max-height:1000px;max-width:1500px;overflow:auto;\">\n",
       "<table border=\"1\" class=\"dataframe\">\n",
       "  <thead>\n",
       "    <tr style=\"text-align: right;\">\n",
       "      <th></th>\n",
       "      <th>A01</th>\n",
       "      <th>A02</th>\n",
       "      <th>A03</th>\n",
       "      <th>A04</th>\n",
       "      <th>A05</th>\n",
       "      <th>A06</th>\n",
       "      <th>A07</th>\n",
       "      <th>A08</th>\n",
       "      <th>A09</th>\n",
       "    </tr>\n",
       "  </thead>\n",
       "  <tbody>\n",
       "    <tr>\n",
       "      <th>0</th>\n",
       "      <td> 896.879</td>\n",
       "      <td> 924.144</td>\n",
       "      <td> 899.629</td>\n",
       "      <td> 796.180</td>\n",
       "      <td> 936.492</td>\n",
       "      <td> 826.367</td>\n",
       "      <td> 759.291</td>\n",
       "      <td> 792.928</td>\n",
       "      <td> 946.623</td>\n",
       "    </tr>\n",
       "    <tr>\n",
       "      <th>1</th>\n",
       "      <td> 946.583</td>\n",
       "      <td> 938.596</td>\n",
       "      <td> 928.959</td>\n",
       "      <td> 790.242</td>\n",
       "      <td> 946.989</td>\n",
       "      <td> 838.949</td>\n",
       "      <td> 777.353</td>\n",
       "      <td> 790.383</td>\n",
       "      <td> 963.707</td>\n",
       "    </tr>\n",
       "    <tr>\n",
       "      <th>2</th>\n",
       "      <td> 694.778</td>\n",
       "      <td> 774.716</td>\n",
       "      <td> 718.264</td>\n",
       "      <td> 533.280</td>\n",
       "      <td> 735.652</td>\n",
       "      <td> 606.997</td>\n",
       "      <td> 629.488</td>\n",
       "      <td> 703.695</td>\n",
       "      <td> 852.307</td>\n",
       "    </tr>\n",
       "  </tbody>\n",
       "</table>\n",
       "</div>"
      ],
      "text/plain": [
       "       A01      A02      A03      A04      A05      A06      A07      A08  \\\n",
       "0  896.879  924.144  899.629  796.180  936.492  826.367  759.291  792.928   \n",
       "1  946.583  938.596  928.959  790.242  946.989  838.949  777.353  790.383   \n",
       "2  694.778  774.716  718.264  533.280  735.652  606.997  629.488  703.695   \n",
       "\n",
       "       A09  \n",
       "0  946.623  \n",
       "1  963.707  \n",
       "2  852.307  "
      ]
     },
     "execution_count": 121,
     "metadata": {},
     "output_type": "execute_result"
    }
   ],
   "source": [
    "pm.summary(\"LB\")"
   ]
  },
  {
   "cell_type": "markdown",
   "metadata": {},
   "source": [
    "Because the file also contained information about the temperature at the time of the reading, platemate will also sotre it for any possible analysis."
   ]
  },
  {
   "cell_type": "code",
   "execution_count": 122,
   "metadata": {
    "collapsed": false
   },
   "outputs": [
    {
     "data": {
      "text/plain": [
       "<matplotlib.figure.Figure at 0x7f9a07a722d0>"
      ]
     },
     "metadata": {},
     "output_type": "display_data"
    },
    {
     "data": {
      "image/png": "[encoded data removed]",
      "text/plain": [
       "<matplotlib.figure.Figure at 0x7f9a078fa3d0>"
      ]
     },
     "metadata": {},
     "output_type": "display_data"
    },
    {
     "data": {
      "text/plain": [
       "<matplotlib.figure.Figure at 0x7f9a07eae790>"
      ]
     },
     "metadata": {},
     "output_type": "display_data"
    },
    {
     "data": {
      "image/png": "[encoded data removed]",
      "text/plain": [
       "<matplotlib.figure.Figure at 0x7f9a07da5f50>"
      ]
     },
     "metadata": {},
     "output_type": "display_data"
    }
   ],
   "source": [
    "pl.figure(figsize=(4,3))\n",
    "pm.plotIt([\"Dev1\",\"Dev2\",\"Dev3\"])\n",
    "pl.show()\n",
    "\n",
    "pl.figure(figsize=(4,3))\n",
    "pm.plotMean([\"Dev1\",\"Dev2\",\"Dev3\"])\n",
    "pl.show()"
   ]
  },
  {
   "cell_type": "code",
   "execution_count": 123,
   "metadata": {
    "collapsed": false
   },
   "outputs": [
    {
     "data": {
      "text/plain": [
       "(0.0, 4.4054724961400581e-28)"
      ]
     },
     "execution_count": 123,
     "metadata": {},
     "output_type": "execute_result"
    }
   ],
   "source": [
    "pm.compareFluorescence(\"LB\",\"Dev1\")"
   ]
  },
  {
   "cell_type": "code",
   "execution_count": 124,
   "metadata": {
    "collapsed": false
   },
   "outputs": [
    {
     "data": {
      "image/png": "[encoded data removed]",
      "text/plain": [
       "<matplotlib.figure.Figure at 0x7f9a079616d0>"
      ]
     },
     "metadata": {},
     "output_type": "display_data"
    }
   ],
   "source": [
    "pl.figure(figsize=(6,3.5))\n",
    "pm.plotBars([\"Dev1\",\"Dev2\",\"Dev3\",\"-control1\"], 5)\n",
    "pl.show()"
   ]
  },
  {
   "cell_type": "code",
   "execution_count": null,
   "metadata": {
    "collapsed": true
   },
   "outputs": [],
   "source": []
  },
  {
   "cell_type": "code",
   "execution_count": null,
   "metadata": {
    "collapsed": true
   },
   "outputs": [],
   "source": []
  },
  {
   "cell_type": "code",
   "execution_count": null,
   "metadata": {
    "collapsed": true
   },
   "outputs": [],
   "source": []
  },
  {
   "cell_type": "code",
   "execution_count": null,
   "metadata": {
    "collapsed": true
   },
   "outputs": [],
   "source": []
  }
 ],
 "metadata": {
  "kernelspec": {
   "display_name": "Python 2",
   "language": "python",
   "name": "python2"
  },
  "language_info": {
   "codemirror_mode": {
    "name": "ipython",
    "version": 2
   },
   "file_extension": ".py",
   "mimetype": "text/x-python",
   "name": "python",
   "nbconvert_exporter": "python",
   "pygments_lexer": "ipython2",
   "version": "2.7.8"
  }
 },
 "nbformat": 4,
 "nbformat_minor": 0
}
